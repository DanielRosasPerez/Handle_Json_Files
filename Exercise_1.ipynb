{
 "cells": [
  {
   "cell_type": "markdown",
   "metadata": {},
   "source": [
    "***Excercise 1:***"
   ]
  },
  {
   "cell_type": "markdown",
   "metadata": {},
   "source": [
    "**DISCLAIMER:** Since the exam asks to show what I did to solve the question, I am showing it, even if my notebook looks a bit messy. Otherwise, I would have made my notebook look better."
   ]
  },
  {
   "cell_type": "markdown",
   "metadata": {},
   "source": [
    "***"
   ]
  },
  {
   "cell_type": "markdown",
   "metadata": {},
   "source": [
    "#### **Playing around a little:**"
   ]
  },
  {
   "cell_type": "code",
   "execution_count": 1,
   "metadata": {},
   "outputs": [],
   "source": [
    "dictionary = {\n",
    "    \"profile_id\": \"1f5833f4e027e0a127f116145037000000000000\",\n",
    "    \"registry_location\": \"mx\",\n",
    "    \"full_name\": \"Juan Perez Perez\",\n",
    "    \"document\": [\n",
    "        {\n",
    "            \"type\": \"work\",\n",
    "            \"address\": {\n",
    "                \"full_address\": \"Porvenir 214, Peñuelas, Queretaro, Santiago de Queretaro, Mexico CP. 76140\",\n",
    "                \"address_line_1\": \"\",\n",
    "                \"address_line_2\": \"\",\n",
    "                \"city\": \"\",\n",
    "                \"foad\": \"\",\n",
    "                \"soad\": \"\",\n",
    "                \"postal_code\": \"\",\n",
    "                \"country\": \"Mexico\",\n",
    "                \"phone\": [\"4420000001\"],\n",
    "                \"fax\": [],\n",
    "                \"email\": [\"example@domain.mx\"]\n",
    "            },\n",
    "            \"number\": \"\",\n",
    "            \"description\": \"\"\n",
    "        }\n",
    "      ],\n",
    "    \"status\": \"\",\n",
    "    \"ad_hoc\": []\n",
    "}"
   ]
  },
  {
   "cell_type": "code",
   "execution_count": 2,
   "metadata": {},
   "outputs": [
    {
     "data": {
      "text/plain": [
       "{'profile_id': '1f5833f4e027e0a127f116145037000000000000',\n",
       " 'registry_location': 'mx',\n",
       " 'full_name': 'Juan Perez Perez',\n",
       " 'document': [{'type': 'work',\n",
       "   'address': {'full_address': 'Porvenir 214, Peñuelas, Queretaro, Santiago de Queretaro, Mexico CP. 76140',\n",
       "    'address_line_1': '',\n",
       "    'address_line_2': '',\n",
       "    'city': '',\n",
       "    'foad': '',\n",
       "    'soad': '',\n",
       "    'postal_code': '',\n",
       "    'country': 'Mexico',\n",
       "    'phone': ['4420000001'],\n",
       "    'fax': [],\n",
       "    'email': ['example@domain.mx']},\n",
       "   'number': '',\n",
       "   'description': ''}],\n",
       " 'status': '',\n",
       " 'ad_hoc': []}"
      ]
     },
     "execution_count": 2,
     "metadata": {},
     "output_type": "execute_result"
    }
   ],
   "source": [
    "dictionary"
   ]
  },
  {
   "cell_type": "code",
   "execution_count": 3,
   "metadata": {},
   "outputs": [
    {
     "name": "stdout",
     "output_type": "stream",
     "text": [
      "Porvenir 214, Peñuelas, Queretaro, Santiago de Queretaro, Mexico CP. 76140\n"
     ]
    }
   ],
   "source": [
    "a = dictionary[\"document\"][0][\"address\"][\"full_address\"]\n",
    "print(a)"
   ]
  },
  {
   "cell_type": "code",
   "execution_count": 4,
   "metadata": {},
   "outputs": [
    {
     "name": "stdout",
     "output_type": "stream",
     "text": [
      "profile_id\n",
      "\n",
      "registry_location\n",
      "\n",
      "full_name\n",
      "\n",
      "[{'type': 'work', 'address': {'full_address': 'Porvenir 214, PeÃ±uelas, Queretaro, Santiago de Queretaro, Mexico CP. 76140', 'address_line_1': '', 'address_line_2': '', 'city': '', 'foad': '', 'soad': '', 'postal_code': '', 'country': 'Mexico', 'phone': ['4420000001'], 'fax': [], 'email': ['example@domain.mx']}, 'number': '', 'description': ''}]\n",
      "status\n",
      "\n",
      "ad_hoc\n",
      "\n"
     ]
    }
   ],
   "source": [
    "import json \n",
    "  \n",
    "# Opening JSON file \n",
    "json_file = open('one_dict.json',) \n",
    "  \n",
    "# returns JSON object as  \n",
    "# a dictionary \n",
    "data = json.load(json_file) \n",
    "  \n",
    "# Iterating through the json \n",
    "# list \n",
    "for n,i in enumerate(data, start=1): \n",
    "    if n == 4:\n",
    "        print(data[i])\n",
    "    else:\n",
    "        print(i)\n",
    "        print('\\r')\n",
    "    \n",
    "json_file.close() \n"
   ]
  },
  {
   "cell_type": "code",
   "execution_count": 5,
   "metadata": {},
   "outputs": [
    {
     "name": "stdout",
     "output_type": "stream",
     "text": [
      "1f5833f4e027e0a127f116145037000000008642\n",
      "\n",
      "mx\n",
      "\n",
      "Vanessa Morales LÃ³pez\n",
      "\n",
      "[{'type': 'work', 'address': {'full_address': 'Porvenir 214, PeÃ±uelas, Queretaro, Santiago de Queretaro, Mexico CP. 76140', 'address_line_1': '', 'address_line_2': '', 'city': '', 'foad': '', 'soad': '', 'postal_code': '', 'country': 'Mexico', 'phone': ['4420000001'], 'fax': [], 'email': ['example@domain.mx']}, 'number': '', 'description': ''}]\n",
      "\n",
      "\n",
      "[]\n",
      "\n"
     ]
    }
   ],
   "source": [
    "import json \n",
    "  \n",
    "# Opening JSON file \n",
    "json_file = open('one_dict.json',) \n",
    "  \n",
    "# returns JSON object as  \n",
    "# a dictionary \n",
    "data = json.load(json_file) \n",
    "  \n",
    "# Iterating through the json \n",
    "# list \n",
    "for n,i in enumerate(data, start=1): \n",
    "    if n == 4:\n",
    "        print(data[i])\n",
    "    else:\n",
    "        print(data[i])\n",
    "        print('\\r')\n",
    "    \n",
    "json_file.close()"
   ]
  },
  {
   "cell_type": "markdown",
   "metadata": {},
   "source": [
    "***"
   ]
  },
  {
   "cell_type": "markdown",
   "metadata": {},
   "source": [
    "#### **The final algorithm to retrieve the \"profile_id\" and \"address\" (when applicable):**"
   ]
  },
  {
   "cell_type": "code",
   "execution_count": 6,
   "metadata": {},
   "outputs": [],
   "source": [
    "import json, csv, os\n",
    "\n",
    "# path = \"home/user/Documents/candidates_documents/\" # INSTEAD THE VARIABLE \"path\" below, PLEASE, USE THIS ONE. Thank you :)\n",
    "path = \"Dictionaries/\"\n",
    "dictionary_paths = [f\"{path}{dict_path}\" for dict_path in os.listdir(path) if dict_path != \".ipynb_checkpoints\"]\n",
    "\n",
    "with open(\"user_data.tsv\", 'w') as csv_file:\n",
    "    csv_writer = csv.writer(csv_file, delimiter='\\t')\n",
    "                \n",
    "    data_to_save = [(\"profile_id\", \"address\")] # Placeholders. In this case, the name of the columns.\n",
    "    \n",
    "    for path in dictionary_paths:\n",
    "        # Opening JSON file \n",
    "        json_file = open(f\"{path}\", encoding=\"utf-8\")\n",
    "        data = json.load(json_file)\n",
    "        \n",
    "        # Saving the \"profile_id\" and \"the address\" (when type = \"work\"), from the JSON files:\n",
    "        flag, support_list = 0, list()\n",
    "        for field in data:\n",
    "            if field == \"profile_id\":\n",
    "                support_list.append(data[field])\n",
    "                flag += 1\n",
    "            elif field == \"document\" and data[field][0][\"type\"] == \"work\":\n",
    "                support_list.append(data[field][0][\"address\"][\"full_address\"])\n",
    "                flag += 1\n",
    "            if flag == 2:\n",
    "                data_to_save.append(tuple(support_list))\n",
    "                flag, support_list = 0, list()\n",
    "    \n",
    "    # Dumping the content inside the \"tsv\" file.\n",
    "    for user_data in data_to_save:\n",
    "        csv_writer.writerow([data_ for data_ in user_data])\n",
    "    \n",
    "    json_file.close()"
   ]
  },
  {
   "cell_type": "markdown",
   "metadata": {},
   "source": [
    "*Use the **notepad** app in your computer to open the resulting file. You can also use **excel** too, but you need to specify that you want to open the file using excel directly in the properties option from the document.tsv*  \n",
    "\n",
    "An example:"
   ]
  },
  {
   "cell_type": "code",
   "execution_count": 7,
   "metadata": {},
   "outputs": [
    {
     "data": {
      "image/png": "[encoded data removed]",
      "text/plain": [
       "<PIL.PngImagePlugin.PngImageFile image mode=RGBA size=1116x378 at 0x2253DF40EE0>"
      ]
     },
     "execution_count": 7,
     "metadata": {},
     "output_type": "execute_result"
    }
   ],
   "source": [
    "from PIL import Image\n",
    "\n",
    "tsv_in_excel = Image.open(\"tsv_file.PNG\")\n",
    "tsv_in_excel"
   ]
  },
  {
   "cell_type": "markdown",
   "metadata": {},
   "source": [
    "***"
   ]
  },
  {
   "cell_type": "markdown",
   "metadata": {},
   "source": [
    "#### **Reading the \".tsv\" file directly in python, as a dictionary:**"
   ]
  },
  {
   "cell_type": "code",
   "execution_count": 8,
   "metadata": {},
   "outputs": [
    {
     "name": "stdout",
     "output_type": "stream",
     "text": [
      "{'profile_id': '1f5833f4e027e0a127f1161450370fa6370a8f5e', 'address': 'Benito Juarez #35, colonia Arboledas, Queretaro, Santiago de Queretaro, Mexico CP. 76000'}\n",
      "{'profile_id': '1f5833f4e027e0a127f116145037000000007531', 'address': 'Porvenir 214, Peñuelas, Queretaro, Santiago de Queretaro, Mexico CP. 76140'}\n",
      "{'profile_id': '1f5833f4e027e0a127f116145037000000008642', 'address': 'Porvenir 214, Peñuelas, Queretaro, Santiago de Queretaro, Mexico CP. 76140'}\n"
     ]
    }
   ],
   "source": [
    "tsv_file = open(\"user_data.tsv\")\n",
    "\n",
    "read_tsv = csv.DictReader(tsv_file, delimiter=\"\\t\")\n",
    "\n",
    "for row in read_tsv:\n",
    "    print(row)"
   ]
  },
  {
   "cell_type": "markdown",
   "metadata": {},
   "source": [
    "***"
   ]
  },
  {
   "cell_type": "markdown",
   "metadata": {},
   "source": [
    "#### **Summary:**"
   ]
  },
  {
   "cell_type": "markdown",
   "metadata": {},
   "source": [
    "1. At the beginning I wasn't pretty sure about the instructions. Then I asked to Carlos about what I had understood.\n",
    "\n",
    "2. Once he answered and clarified my doubts, I started working on the question.\n",
    "\n",
    "3. The first thing I focused on was: How to get the ** profile_id ** and the ** address ** itself. I did not consider if the type of address was work, home or school, I just wanted to know how to obtain the requested data.\n",
    "\n",
    "4. Since I needed some refresh, I started searching the internet for general info about csv files and json files with python (I've worked with those kind of files, but there was some stuff I didn't remember). The pages where I looked for the information were:\n",
    "\n",
    "    https://www.youtube.com/watch?v=q5uM4VKywbA  \n",
    "    https://www.geeksforgeeks.org/read-json-file-using-python/\n",
    "\n",
    "5. The next step was to load json files, so, what I did was to create 5 json files to test my code. Once those files were created, I started to get the requested data from json files, but, this time, considering the type of address.\n",
    "\n",
    "6. When I was able to get the data from users whose type of address was **work**, I had to think and play around some more, because of the data. It wasn't being displayed correctly due to the special chars (ñ, or accents). The main problem here, was the **encoding**, so I made this param equal to **utf-8**. Finally, when the retrieved data was correctly displayed, I got so happy."
   ]
  },
  {
   "cell_type": "code",
   "execution_count": null,
   "metadata": {},
   "outputs": [],
   "source": []
  }
 ],
 "metadata": {
  "kernelspec": {
   "display_name": "Python 3",
   "language": "python",
   "name": "python3"
  },
  "language_info": {
   "codemirror_mode": {
    "name": "ipython",
    "version": 3
   },
   "file_extension": ".py",
   "mimetype": "text/x-python",
   "name": "python",
   "nbconvert_exporter": "python",
   "pygments_lexer": "ipython3",
   "version": "3.8.3"
  }
 },
 "nbformat": 4,
 "nbformat_minor": 4
}
